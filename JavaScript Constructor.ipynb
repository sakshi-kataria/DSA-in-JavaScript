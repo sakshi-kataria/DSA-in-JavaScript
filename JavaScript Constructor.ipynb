{
 "cells": [
  {
   "cell_type": "markdown",
   "metadata": {},
   "source": [
    "Constructor method are special method to create and initializing object created with class.\n",
    "\n",
    "There can only one constructor method in a class, if more than one constructor method is defined in a class it will give exception of syntax error.\n",
    "\n",
    "A constructor can use super method to call constructor of parent class.\n",
    "\n",
    "If constructor method is not defined, default constructor is called in class.\n",
    "\n",
    "** Default Constructor **\n"
   ]
  },
  {
   "cell_type": "code",
   "execution_count": null,
   "metadata": {
    "collapsed": true
   },
   "outputs": [],
   "source": [
    "constructor() {}"
   ]
  },
  {
   "cell_type": "markdown",
   "metadata": {},
   "source": [
    "for derived class, default constructor is\n"
   ]
  },
  {
   "cell_type": "code",
   "execution_count": null,
   "metadata": {
    "collapsed": true
   },
   "outputs": [],
   "source": [
    "constructor(...args) {\n",
    "  super(...args);\n",
    "}"
   ]
  },
  {
   "cell_type": "code",
   "execution_count": null,
   "metadata": {
    "collapsed": true
   },
   "outputs": [],
   "source": [
    "function Stack(){\n",
    "    \n",
    "}"
   ]
  }
 ],
 "metadata": {
  "kernelspec": {
   "display_name": "Javascript (Node.js)",
   "language": "javascript",
   "name": "javascript"
  },
  "language_info": {
   "file_extension": ".js",
   "mimetype": "application/javascript",
   "name": "javascript",
   "version": "6.9.4"
  }
 },
 "nbformat": 4,
 "nbformat_minor": 2
}
